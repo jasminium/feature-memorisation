{
 "cells": [
  {
   "cell_type": "code",
   "execution_count": 1,
   "id": "9f0db472",
   "metadata": {},
   "outputs": [
    {
     "ename": "AttributeError",
     "evalue": "module 'tensorflow.keras.layers' has no attribute 'RandomContrast'",
     "output_type": "error",
     "traceback": [
      "\u001b[0;31m---------------------------------------------------------------------------\u001b[0m",
      "\u001b[0;31mAttributeError\u001b[0m                            Traceback (most recent call last)",
      "\u001b[1;32m/home/s1563137/mnist_leakage/neurips/um/um.ipynb Cell 1'\u001b[0m in \u001b[0;36m<cell line: 18>\u001b[0;34m()\u001b[0m\n\u001b[1;32m     <a href='vscode-notebook-cell://ssh-remote%2Bneeps/home/s1563137/mnist_leakage/neurips/um/um.ipynb#ch0000000vscode-remote?line=15'>16</a>\u001b[0m \u001b[39mfrom\u001b[39;00m \u001b[39mdatasets\u001b[39;00m \u001b[39mimport\u001b[39;00m get_cifar_10_grayscale\n\u001b[1;32m     <a href='vscode-notebook-cell://ssh-remote%2Bneeps/home/s1563137/mnist_leakage/neurips/um/um.ipynb#ch0000000vscode-remote?line=16'>17</a>\u001b[0m \u001b[39mfrom\u001b[39;00m \u001b[39mdatasets\u001b[39;00m \u001b[39mimport\u001b[39;00m mnist_mean, mnist_std\n\u001b[0;32m---> <a href='vscode-notebook-cell://ssh-remote%2Bneeps/home/s1563137/mnist_leakage/neurips/um/um.ipynb#ch0000000vscode-remote?line=17'>18</a>\u001b[0m \u001b[39mfrom\u001b[39;00m \u001b[39mmodels\u001b[39;00m \u001b[39mimport\u001b[39;00m get_mlp \u001b[39mas\u001b[39;00m get_mlp\n\u001b[1;32m     <a href='vscode-notebook-cell://ssh-remote%2Bneeps/home/s1563137/mnist_leakage/neurips/um/um.ipynb#ch0000000vscode-remote?line=18'>19</a>\u001b[0m \u001b[39mfrom\u001b[39;00m \u001b[39mexperiment\u001b[39;00m \u001b[39mimport\u001b[39;00m run\n\u001b[1;32m     <a href='vscode-notebook-cell://ssh-remote%2Bneeps/home/s1563137/mnist_leakage/neurips/um/um.ipynb#ch0000000vscode-remote?line=19'>20</a>\u001b[0m \u001b[39mimport\u001b[39;00m \u001b[39malphabet\u001b[39;00m\n",
      "File \u001b[0;32m~/mnist_leakage/neurips/um/models.py:12\u001b[0m, in \u001b[0;36m<module>\u001b[0;34m\u001b[0m\n\u001b[1;32m      <a href='file:///home/s1563137/mnist_leakage/neurips/um/models.py?line=7'>8</a>\u001b[0m \u001b[39mfrom\u001b[39;00m \u001b[39mtensorflow\u001b[39;00m\u001b[39m.\u001b[39;00m\u001b[39mkeras\u001b[39;00m\u001b[39m.\u001b[39;00m\u001b[39mmodels\u001b[39;00m \u001b[39mimport\u001b[39;00m Model\n\u001b[1;32m     <a href='file:///home/s1563137/mnist_leakage/neurips/um/models.py?line=9'>10</a>\u001b[0m \u001b[39m# augmentation for mnist\u001b[39;00m\n\u001b[1;32m     <a href='file:///home/s1563137/mnist_leakage/neurips/um/models.py?line=10'>11</a>\u001b[0m aug \u001b[39m=\u001b[39m keras\u001b[39m.\u001b[39mSequential([\n\u001b[0;32m---> <a href='file:///home/s1563137/mnist_leakage/neurips/um/models.py?line=11'>12</a>\u001b[0m     layers\u001b[39m.\u001b[39;49mRandomContrast(\u001b[39m0.2\u001b[39m),\n\u001b[1;32m     <a href='file:///home/s1563137/mnist_leakage/neurips/um/models.py?line=12'>13</a>\u001b[0m     layers\u001b[39m.\u001b[39mRandomCrop(\u001b[39m27\u001b[39m, \u001b[39m27\u001b[39m),\n\u001b[1;32m     <a href='file:///home/s1563137/mnist_leakage/neurips/um/models.py?line=13'>14</a>\u001b[0m     layers\u001b[39m.\u001b[39mResizing(\u001b[39m28\u001b[39m, \u001b[39m28\u001b[39m),\n\u001b[1;32m     <a href='file:///home/s1563137/mnist_leakage/neurips/um/models.py?line=14'>15</a>\u001b[0m ])\n\u001b[1;32m     <a href='file:///home/s1563137/mnist_leakage/neurips/um/models.py?line=16'>17</a>\u001b[0m \u001b[39m# augmentation for cifar\u001b[39;00m\n\u001b[1;32m     <a href='file:///home/s1563137/mnist_leakage/neurips/um/models.py?line=17'>18</a>\u001b[0m aug_32_32 \u001b[39m=\u001b[39m keras\u001b[39m.\u001b[39mSequential([\n\u001b[1;32m     <a href='file:///home/s1563137/mnist_leakage/neurips/um/models.py?line=18'>19</a>\u001b[0m     layers\u001b[39m.\u001b[39mRandomContrast(\u001b[39m0.2\u001b[39m, input_shape\u001b[39m=\u001b[39m(\u001b[39m32\u001b[39m, \u001b[39m32\u001b[39m, \u001b[39m3\u001b[39m)),\n\u001b[1;32m     <a href='file:///home/s1563137/mnist_leakage/neurips/um/models.py?line=19'>20</a>\u001b[0m     layers\u001b[39m.\u001b[39mRandomCrop(\u001b[39m31\u001b[39m, \u001b[39m31\u001b[39m),\n\u001b[0;32m   (...)\u001b[0m\n\u001b[1;32m     <a href='file:///home/s1563137/mnist_leakage/neurips/um/models.py?line=22'>23</a>\u001b[0m     \u001b[39m# layers.RandomRotation(0.2)\u001b[39;00m\n\u001b[1;32m     <a href='file:///home/s1563137/mnist_leakage/neurips/um/models.py?line=23'>24</a>\u001b[0m ])\n",
      "\u001b[0;31mAttributeError\u001b[0m: module 'tensorflow.keras.layers' has no attribute 'RandomContrast'"
     ]
    }
   ],
   "source": [
    "import os\n",
    "\n",
    "os.environ[\"CUDA_VISIBLE_DEVICES\"] = \"1\"\n",
    "os.environ[\"TF_FORCE_GPU_ALLOW_GROWTH\"] = \"true\"\n",
    "# deterministic GPGPU operations\n",
    "os.environ[\"TF_DETERMINISTIC_OPS\"] = \"1\"\n",
    "os.environ['TF_CUDNN_DETERMINISTIC']='1'\n",
    "# turn off warnings and info\n",
    "os.environ['TF_CPP_MIN_LOG_LEVEL'] = '2' \n",
    "os.environ[\"AUTOGRAPH_VERBOSITY\"] = \"2\"\n",
    "\n",
    "import numpy as np\n",
    "import tensorflow as tf\n",
    "\n",
    "from datasets import get_mnist\n",
    "from datasets import get_cifar_10_grayscale\n",
    "from datasets import mnist_mean, mnist_std\n",
    "from models import get_mlp as get_mlp\n",
    "from experiment import run\n",
    "import alphabet\n",
    "import artifacters\n",
    "import utils\n",
    "\n",
    "def experiment(exp_name=None,\n",
    "        dataset=None,\n",
    "        ood_dataset=None,\n",
    "        mean=None,\n",
    "        std=None,\n",
    "        model=None,\n",
    "        lr=None,\n",
    "        ds_l=None,\n",
    "        ds_ood_l=None,\n",
    "        batch_size=None,\n",
    "        n_canaries=None,\n",
    "        epochs=None):\n",
    "\n",
    "    seed = 123\n",
    "    utils.g_seed = seed\n",
    "    utils.set_seed()\n",
    "\n",
    "    c_indx = np.random.randint(0, ds_l, (n_canaries))\n",
    "    artifact = alphabet.get_letter(0)\n",
    "    artifact_offset = 1\n",
    "    artifacter = artifacters.ArtifacterRandom(artifact_offset, artifact, None, ds_ood_l)\n",
    "    \n",
    "    run(\n",
    "        exp_name=exp_name,\n",
    "        seed=seed,\n",
    "        epochs=epochs,\n",
    "        batch_size=batch_size,\n",
    "        learning_rate=lr,\n",
    "        patience=10,\n",
    "        n_outputs=10,\n",
    "        loss_function=tf.keras.losses.SparseCategoricalCrossentropy(\n",
    "            from_logits=False),\n",
    "        n_checkpoints='auto',\n",
    "        artifacter=artifacter,\n",
    "        get_model=model,\n",
    "        get_dataset=dataset,\n",
    "        get_ood_dataset=ood_dataset,\n",
    "        mean=mean,\n",
    "        std=std,\n",
    "        n_leaky_models=c_indx,\n",
    "        hardness='tracin',\n",
    "        run_train_leaky_models=True,\n",
    "        run_eval=True,\n",
    "        optimizer_type='adam',\n",
    "        canary_indices=c_indx)\n",
    "\n",
    "experiment(exp_name='mnist_mlp', dataset=get_mnist,\n",
    "    ood_dataset=get_cifar_10_grayscale, mean=mnist_mean,\n",
    "    std=mnist_std, model=get_mlp, lr=3e-4, ds_l=60000, ds_ood_l=50000, batch_size=128, n_canaries=2, epochs=100)\n"
   ]
  },
  {
   "cell_type": "code",
   "execution_count": 9,
   "id": "53ba9d46",
   "metadata": {
    "scrolled": false
   },
   "outputs": [
    {
     "data": {
      "image/png": "[encoded data removed]",
      "text/plain": [
       "<Figure size 432x288 with 1 Axes>"
      ]
     },
     "metadata": {
      "needs_background": "light"
     },
     "output_type": "display_data"
    }
   ],
   "source": [
    "import numpy as np\n",
    "import matplotlib.pyplot as plt\n",
    "import seaborn as sns\n",
    "import pandas as pd\n",
    "\n",
    "sns.set_palette('tab10')\n",
    "\n",
    "alpha = 'ABCDEFGHIJKLMNOPQRSTUVWXYZ'\n",
    "\n",
    "m = 'M2'\n",
    "\n",
    "def plot(exp_name):\n",
    "    \n",
    "\n",
    "    # directory of the models trained with the canaries\n",
    "    exp_eval = f'results/{exp_name}/eval.csv'\n",
    "    # load csv\n",
    "    df = pd.read_csv(exp_eval)\n",
    "    \n",
    "    if m != 'M2':\n",
    "        df[m] = df[m] * -1\n",
    "        \n",
    "    plt.figure()\n",
    "    ax = sns.scatterplot(data=df, x='canary', color='black')\n",
    "    ax.axhline(0, color='black', linewidth=1)\n",
    "    ax.set_xlabel('Canaries')\n",
    "    ax.set_ylabel('M Score')\n",
    "    ax.axes.xaxis.set_ticklabels([])\n",
    "    plt.show()\n",
    "    \n",
    "\n",
    "m = 'M2'\n",
    "plot('mnist_mlp')\n"
   ]
  }
 ],
 "metadata": {
  "interpreter": {
   "hash": "fd662413cef4f4368c23086a71ae79c1e0963a478e95a279ac2fddf09b9eb4f3"
  },
  "kernelspec": {
   "display_name": "Python 3.9.12 ('test-env')",
   "language": "python",
   "name": "python3"
  },
  "language_info": {
   "codemirror_mode": {
    "name": "ipython",
    "version": 3
   },
   "file_extension": ".py",
   "mimetype": "text/x-python",
   "name": "python",
   "nbconvert_exporter": "python",
   "pygments_lexer": "ipython3",
   "version": "3.9.12"
  }
 },
 "nbformat": 4,
 "nbformat_minor": 5
}
