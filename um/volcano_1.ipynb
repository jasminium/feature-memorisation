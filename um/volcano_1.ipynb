{
 "cells": [
  {
   "cell_type": "code",
   "execution_count": 11,
   "metadata": {},
   "outputs": [
    {
     "name": "stdout",
     "output_type": "stream",
     "text": [
      "   Canary ID   M score  M11_unique  M11_clean\n",
      "0      52734  0.035355    1.112156   1.080972\n",
      "   Canary ID   M score  M11_unique  M11_clean\n",
      "0      52734  0.021698    1.121662   1.093576\n",
      "   Canary ID   M score  M11_unique  M11_clean\n",
      "0      52734  0.021184    1.118318   1.085875\n",
      "   Canary ID   M score  M11_unique  M11_clean\n",
      "0      52734  0.025668    1.131576   1.098333\n",
      "   Canary ID  M score  M11_unique  M11_clean\n",
      "0      52734  0.02629    1.119353   1.088291\n"
     ]
    }
   ],
   "source": [
    "import pandas as pd\n",
    "\n",
    "def show_memorisation(exp_name, m):\n",
    "    \n",
    "    # directory of the models trained with the canaries\n",
    "    exp_eval = f'results/{exp_name}/eval.csv'\n",
    "    # load csv\n",
    "    df = pd.read_csv(exp_eval)\n",
    "    if m != 'M2':\n",
    "        df[m] = df[m] * -1\n",
    "    df = df.rename(columns={'canary': 'Canary ID', m: 'M score'})\n",
    "    df = df[['Canary ID', 'M score', 'M11_unique', 'M11_clean']]#.sort_values('M score', ascending=False, ignore_index=True)\n",
    "\n",
    "    print(df.to_string())\n",
    "\n",
    "m = 'M3'\n",
    "for i in range(5):\n",
    "    show_memorisation(f'volcano_1_mnist_mlp_{i}', m)"
   ]
  }
 ],
 "metadata": {
  "interpreter": {
   "hash": "784c28154d1326b3d37fa9d2b31bfc5e6f7b7d1697c8fd5b6abb323290cf8529"
  },
  "kernelspec": {
   "display_name": "Python 3.10.2 ('tf-gpu-2-7')",
   "language": "python",
   "name": "python3"
  },
  "language_info": {
   "codemirror_mode": {
    "name": "ipython",
    "version": 3
   },
   "file_extension": ".py",
   "mimetype": "text/x-python",
   "name": "python",
   "nbconvert_exporter": "python",
   "pygments_lexer": "ipython3",
   "version": "3.10.2"
  },
  "orig_nbformat": 4
 },
 "nbformat": 4,
 "nbformat_minor": 2
}
